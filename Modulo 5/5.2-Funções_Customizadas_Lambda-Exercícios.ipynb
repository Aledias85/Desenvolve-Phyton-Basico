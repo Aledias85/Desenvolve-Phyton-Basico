{
 "cells": [
  {
   "cell_type": "markdown",
   "id": "cbdff5a5",
   "metadata": {},
   "source": [
    "# Módulo 5 - Funções\n",
    "\n",
    "## Aulas 5.2 - Funções Customizadas e 5.4 Funções ```lambda```"
   ]
  },
  {
   "cell_type": "markdown",
   "id": "28a3fee2",
   "metadata": {},
   "source": [
    "### Q1.\n",
    "\n",
    "- Sabendo que o código a seguir calcula o fatorial de n, escreva uma função chamada ```fatorial()``` que recebe um inteiro ```n``` como parâmetro e retorna o resultado do fatorial de ```n```. \n",
    "- No programa principal, peça ao usuário o valor de ```n```, chame a sua função e imprima o retorno.\n",
    "\n",
    "```python\n",
    "fat = 1\n",
    "for i in range(1, n+1):\n",
    "    fat *= i \n",
    "```"
   ]
  },
  {
   "cell_type": "code",
   "execution_count": 7,
   "id": "d126b3a5",
   "metadata": {},
   "outputs": [],
   "source": [
    "def fatorial(n):\n",
    "    #corpo da função\n",
    "    fat = 1\n",
    "    for i in range(1, n + 1):\n",
    "        fat *= i\n",
    "    return fat"
   ]
  },
  {
   "cell_type": "code",
   "execution_count": 8,
   "id": "6e4fe64e",
   "metadata": {},
   "outputs": [
    {
     "name": "stdin",
     "output_type": "stream",
     "text": [
      "Digite um valor inteiro para calcular o fatorial:  6\n"
     ]
    },
    {
     "name": "stdout",
     "output_type": "stream",
     "text": [
      "O fatorial de 6 é 720\n"
     ]
    }
   ],
   "source": [
    "#### Programa principal\n",
    "if __name__ == \"__main__\":\n",
    "    # Solicita um valor do usuário\n",
    "    n = int(input(\"Digite um valor inteiro para calcular o fatorial: \"))\n",
    "    \n",
    "    # Calcula o fatorial usando a função fatorial\n",
    "    resultado = fatorial(n)\n",
    "    \n",
    "    # Imprime o resultado\n",
    "    print(f\"O fatorial de {n} é {resultado}\")\n"
   ]
  },
  {
   "cell_type": "markdown",
   "id": "c0a1f599",
   "metadata": {},
   "source": [
    "### Q2.\n",
    "\n",
    "- Escreva uma função em Python chamada ```soma_quadrados``` que recebe dois números como parâmetros e retorna a soma dos seus quadrados. \n",
    "- No programa principal solicite ao usuário que insira dois números e utilize a função para exibir a soma dos quadrados."
   ]
  },
  {
   "cell_type": "code",
   "execution_count": 19,
   "id": "6dbddaad",
   "metadata": {},
   "outputs": [],
   "source": [
    "def soma_quadrados(num1, num2):\n",
    "    \"\"\"\n",
    "    Corpo da função\n",
    "    \"\"\"\n",
    "    return num1**2 + num2**2\n"
   ]
  },
  {
   "cell_type": "code",
   "execution_count": 20,
   "id": "9175a7da",
   "metadata": {},
   "outputs": [
    {
     "name": "stdin",
     "output_type": "stream",
     "text": [
      "Digite o primeiro número:  24\n",
      "Digite o segundo número:  24\n"
     ]
    },
    {
     "name": "stdout",
     "output_type": "stream",
     "text": [
      "A soma dos quadrados de 24.0 e 24.0 é 1152.0\n"
     ]
    }
   ],
   "source": [
    "# Programa principal\n",
    "if __name__ == \"__main__\":\n",
    "    # Solicita ao usuário que insira dois números\n",
    "    num1 = float(input(\"Digite o primeiro número: \"))\n",
    "    num2 = float(input(\"Digite o segundo número: \"))\n",
    "    \n",
    "    # Calcula a soma dos quadrados usando a função soma_quadrados\n",
    "    resultado = soma_quadrados(num1, num2)\n",
    "    \n",
    "    # Exibe o resultado\n",
    "    print(f\"A soma dos quadrados de {num1} e {num2} é {resultado}\")\n"
   ]
  },
  {
   "cell_type": "markdown",
   "id": "6ba34ce0",
   "metadata": {},
   "source": [
    "### Q3.\n",
    "\n",
    "- Crie uma função em Python chamada ```soma_digitos``` que recebe um número inteiro como parâmetro e retorna a soma dos seus dígitos. Por exemplo, para o número 123, a função deve retornar 6, $(1 + 2 + 3)$.\n",
    "    - O desafio aqui é separar os dígitos de um número inteiro usando operações aritméticas <br> <br>\n",
    "\n",
    "- No programa principal solicite ao usuário que insira um número e utilize a função ```soma_digitos``` para calcular e exibir a soma dos seus dígitos."
   ]
  },
  {
   "cell_type": "code",
   "execution_count": 27,
   "id": "34838ebf",
   "metadata": {},
   "outputs": [],
   "source": [
    "def soma_digitos(n):\n",
    "    \"\"\"\n",
    "    Função que recebe um número inteiro e retorna a soma dos seus dígitos.\n",
    "    \"\"\"\n",
    "    soma = 0\n",
    "    while n > 0:\n",
    "        soma += n % 10  # Adiciona o último dígito à soma\n",
    "        n //= 10  # Remove o último dígito de n\n",
    "    return soma"
   ]
  },
  {
   "cell_type": "code",
   "execution_count": 28,
   "id": "27c35b21",
   "metadata": {},
   "outputs": [
    {
     "name": "stdin",
     "output_type": "stream",
     "text": [
      "Digite um número inteiro:  123\n"
     ]
    },
    {
     "name": "stdout",
     "output_type": "stream",
     "text": [
      "A soma dos dígitos de 123 é 6\n"
     ]
    }
   ],
   "source": [
    "# Programa principal\n",
    "if __name__ == \"__main__\":\n",
    "    # Solicita ao usuário que insira um número\n",
    "    numero = int(input(\"Digite um número inteiro: \"))\n",
    "    \n",
    "    # Calcula a soma dos dígitos usando a função soma_digitos\n",
    "    resultado = soma_digitos(numero)\n",
    "    \n",
    "    # Exibe o resultado\n",
    "    print(f\"A soma dos dígitos de {numero} é {resultado}\")\n"
   ]
  },
  {
   "cell_type": "markdown",
   "id": "c318b159",
   "metadata": {},
   "source": [
    "### Q4.\n",
    "\n",
    "- Crie a função ```inverteValor()``` que recebe um inteiro de qualquer tamanho e retorna esse valor invertido usando apenas operações aritméticas\n",
    "- Crie a função ```verificaInverso()``` que recebe o valor original e o valor invertido e retorna verdadeiro se ambos forem igualmente par ou igualmente ímpar. Retorne falso caso contrário.\n",
    "- No programa principal, peça um valor do usuário e imprima o retorno de ambas as funções.\n"
   ]
  },
  {
   "cell_type": "code",
   "execution_count": 16,
   "id": "e4e47d1d",
   "metadata": {},
   "outputs": [],
   "source": [
    "def inverteValor(valor):\n",
    "    valor_invertido = 0\n",
    "    while valor != 0:\n",
    "        valor_invertido = valor_invertido * 10 + valor % 10\n",
    "        valor //= 10\n",
    "    return valor_invertido\n",
    "\n",
    "def verificaInverso(valor, valor_invertido):\n",
    "    eh_inverso = (valor % 2 == 0 and valor_invertido % 2 == 0) or (valor % 2 != 0 and valor_invertido % 2 != 0)\n",
    "    return eh_inverso"
   ]
  },
  {
   "cell_type": "code",
   "execution_count": 17,
   "id": "a9514e56",
   "metadata": {},
   "outputs": [
    {
     "name": "stdin",
     "output_type": "stream",
     "text": [
      "Digite um valor inteiro:  45\n"
     ]
    },
    {
     "name": "stdout",
     "output_type": "stream",
     "text": [
      "O valor invertido é: 54\n",
      "Os valores são igualmente pares ou ímpares: False\n"
     ]
    }
   ],
   "source": [
    "# Programa principal\n",
    "if __name__ == \"__main__\":\n",
    "    valor = int(input(\"Digite um valor inteiro: \"))\n",
    "    valor_invertido = inverteValor(valor)\n",
    "    sao_iguais = verificaInverso(valor, valor_invertido)\n",
    "    print(f\"O valor invertido é: {valor_invertido}\")\n",
    "    print(f\"Os valores são igualmente pares ou ímpares: {sao_iguais}\")"
   ]
  },
  {
   "cell_type": "markdown",
   "id": "329be966",
   "metadata": {},
   "source": [
    "### Q5.\n",
    "\n",
    "Você está desenvolvendo um programa para auxiliar em cálculos de geometria básica. Crie as seguintes funções:\n",
    "- A função ```calcula_perimetro_triangulo()``` que recebe três inteiros correspondentes aos lados de um triângulo e retorna o perímetro do triângulo, ou seja, a soma dos seus lados.\n",
    "- A função ```calcula_perimetro_circulo()``` que recebe um inteiro referente ao raio do círculo e retorna o perímetro do círculo, dado por $2 \\pi r$. Use a constante $\\pi$ da biblioteca ```math```.\n",
    "- A função ```calcula_perimetro_retangulo()``` que possui um parâmetro obrigatório ```lado1``` e um opcional ```lado2```, ambos inteiros. Se o valor opcional não for fornecido, significa que se trata de um quadrado. Sua função deve calcular e retornar o perímetro do retângulo, ou seja, a soma de seus lados. \n",
    "    - Para o quadrado, é dado por $4 \\times lado1$\n",
    "    - Para o retângulo é dado por $2 \\times lado1 + 2 \\times lado2$\n",
    "    \n",
    "- No programa principal apresente um menu com as opções disponíveis do seu sistema e uma quarta opção ```Sair```. Solicite ao usuário a opção desejada, solicite as entradas correspondentes à opção escolhida, invoque a respective função e apresente o seu retorno. Seu programa deve retornar ao menu até que o usuário escolha a opção ```Sair```\n",
    "\n",
    "Exemplo de interação:\n",
    "```\n",
    "1 - Calcular perímetro triângulo\n",
    "2 - Calcular perímetro círculo\n",
    "3 - Calcular perímetro retângulo\n",
    "4 - Sair\n",
    "\n",
    "Opção: 1\n",
    "Digite os três lados do triângulo:\n",
    "3\n",
    "4\n",
    "5\n",
    "O perímetro é: 12\n",
    "\n",
    "1 - Calcular perímetro triângulo\n",
    "2 - Calcular perímetro círculo\n",
    "3 - Calcular perímetro retângulo\n",
    "4 - Sair\n",
    "\n",
    "Opção: 3\n",
    "Informe os dois lados do retângulo. Se for um quadrado, digite 0 para o segundo valor:\n",
    "5\n",
    "0\n",
    "O perímetro é: 20\n",
    "\n",
    "1 - Calcular perímetro triângulo\n",
    "2 - Calcular perímetro círculo\n",
    "3 - Calcular perímetro retângulo\n",
    "4 - Sair\n",
    "\n",
    "Opção: 4\n",
    "```"
   ]
  },
  {
   "cell_type": "code",
   "execution_count": 31,
   "id": "0793d328",
   "metadata": {},
   "outputs": [],
   "source": [
    "#Função Principal\n",
    "import math\n",
    "\n",
    "def calcula_perimetro_triangulo(lado1, lado2, lado3):\n",
    "    \"\"\"\n",
    "    Função que recebe três inteiros correspondentes aos lados de um triângulo\n",
    "    e retorna o perímetro do triângulo.\n",
    "    \"\"\"\n",
    "    return lado1 + lado2 + lado3\n",
    "\n",
    "def calcula_perimetro_circulo(raio):\n",
    "    \"\"\"\n",
    "    Função que recebe um inteiro referente ao raio do círculo\n",
    "    e retorna o perímetro do círculo.\n",
    "    \"\"\"\n",
    "    return 2 * math.pi * raio\n",
    "\n",
    "def calcula_perimetro_retangulo(lado1, lado2=None):\n",
    "    \"\"\"\n",
    "    Função que recebe um parâmetro obrigatório lado1 e um opcional lado2.\n",
    "    Se lado2 não for fornecido, calcula o perímetro de um quadrado.\n",
    "    Caso contrário, calcula o perímetro de um retângulo.\n",
    "    \"\"\"\n",
    "    if lado2 is None or lado2 == 0:\n",
    "        return 4 * lado1\n",
    "    return 2 * (lado1 + lado2)\n",
    "#Função auxiliar\n",
    "def mostrar_menu():\n",
    "    print(\"\\n1 - Calcular perímetro triângulo\")\n",
    "    print(\"2 - Calcular perímetro círculo\")\n",
    "    print(\"3 - Calcular perímetro retângulo\")\n",
    "    print(\"4 - Sair\")\n",
    "\n",
    "def obter_opcao():\n",
    "    try:\n",
    "        return int(input(\"\\nOpção: \"))\n",
    "    except ValueError:\n",
    "        return 0\n",
    "\n",
    "def executar_opcao(opcao):\n",
    "    if opcao == 1:\n",
    "        print(\"Digite os três lados do triângulo:\")\n",
    "        lado1 = int(input())\n",
    "        lado2 = int(input())\n",
    "        lado3 = int(input())\n",
    "        perimetro = calcula_perimetro_triangulo(lado1, lado2, lado3)\n",
    "        print(f\"O perímetro é: {perimetro}\")\n",
    "    elif opcao == 2:\n",
    "        raio = int(input(\"Digite o raio do círculo: \"))\n",
    "        perimetro = calcula_perimetro_circulo(raio)\n",
    "        print(f\"O perímetro é: {perimetro:.2f}\")\n",
    "    elif opcao == 3:\n",
    "        print(\"Informe os dois lados do retângulo. Se for um quadrado, digite 0 para o segundo valor:\")\n",
    "        lado1 = int(input())\n",
    "        lado2 = int(input())\n",
    "        perimetro = calcula_perimetro_retangulo(lado1, lado2)\n",
    "        print(f\"O perímetro é: {perimetro}\")\n",
    "    elif opcao == 4:\n",
    "        print(\"Saindo...\")\n",
    "        return False\n",
    "    else:\n",
    "        print(\"Opção inválida. Tente novamente.\")\n",
    "    return True\n"
   ]
  },
  {
   "cell_type": "code",
   "execution_count": null,
   "id": "36269c71",
   "metadata": {},
   "outputs": [
    {
     "name": "stdout",
     "output_type": "stream",
     "text": [
      "\n",
      "1 - Calcular perímetro triângulo\n",
      "2 - Calcular perímetro círculo\n",
      "3 - Calcular perímetro retângulo\n",
      "4 - Sair\n"
     ]
    },
    {
     "name": "stdin",
     "output_type": "stream",
     "text": [
      "\n",
      "Opção:  1\n"
     ]
    },
    {
     "name": "stdout",
     "output_type": "stream",
     "text": [
      "Digite os três lados do triângulo:\n"
     ]
    },
    {
     "name": "stdin",
     "output_type": "stream",
     "text": [
      " 9\n",
      " 7\n",
      " 8\n"
     ]
    },
    {
     "name": "stdout",
     "output_type": "stream",
     "text": [
      "O perímetro é: 24\n",
      "\n",
      "1 - Calcular perímetro triângulo\n",
      "2 - Calcular perímetro círculo\n",
      "3 - Calcular perímetro retângulo\n",
      "4 - Sair\n"
     ]
    }
   ],
   "source": [
    "def main():\n",
    "    while True:\n",
    "        print(\"\\n1 - Calcular perímetro triângulo\")\n",
    "        print(\"2 - Calcular perímetro círculo\")\n",
    "        print(\"3 - Calcular perímetro retângulo\")\n",
    "        print(\"4 - Sair\")\n",
    "        \n",
    "        opcao = int(input(\"\\nOpção: \"))\n",
    "        \n",
    "        if opcao == 1:\n",
    "            print(\"Digite os três lados do triângulo:\")\n",
    "            lado1 = int(input())\n",
    "            lado2 = int(input())\n",
    "            lado3 = int(input())\n",
    "            perimetro = calcula_perimetro_triangulo(lado1, lado2, lado3)\n",
    "            print(f\"O perímetro é: {perimetro}\")\n",
    "        \n",
    "        elif opcao == 2:\n",
    "            raio = int(input(\"Digite o raio do círculo: \"))\n",
    "            perimetro = calcula_perimetro_circulo(raio)\n",
    "            print(f\"O perímetro é: {perimetro:.2f}\")\n",
    "        \n",
    "        elif opcao == 3:\n",
    "            print(\"Informe os dois lados do retângulo. Se for um quadrado, digite 0 para o segundo valor:\")\n",
    "            lado1 = int(input())\n",
    "            lado2 = int(input())\n",
    "            perimetro = calcula_perimetro_retangulo(lado1, lado2)\n",
    "            print(f\"O perímetro é: {perimetro}\")\n",
    "        \n",
    "        elif opcao == 4:\n",
    "            print(\"Saindo...\")\n",
    "            break\n",
    "        \n",
    "        else:\n",
    "            print(\"Opção inválida. Tente novamente.\")\n",
    "\n",
    "if __name__ == \"__main__\":\n",
    "    main()\n"
   ]
  },
  {
   "cell_type": "markdown",
   "id": "3016bcc7",
   "metadata": {},
   "source": [
    "## Funções ```lambda```"
   ]
  },
  {
   "cell_type": "markdown",
   "id": "f9cdb8dd",
   "metadata": {},
   "source": [
    "### Q6.\n",
    "\n",
    "Crie uma função lambda para verificar se um número é par ou ímpar. Em seguida, solicite ao usuário um número indefinidos de valores (até que o usuário digite 0). Para cada valor de entrada, informe se é par ou ímpar.\n",
    "\n",
    "Exemplo de interação:\n",
    "```\n",
    "Digite os valores que deseja verificar a paridade (digite 0 para finalizar a entrada de dados):\n",
    "3\n",
    "ímpar\n",
    "8\n",
    "par\n",
    "12\n",
    "par\n",
    "5\n",
    "ímpar\n",
    "7ímpar\n",
    "```"
   ]
  },
  {
   "cell_type": "code",
   "execution_count": null,
   "id": "e3c31a78",
   "metadata": {},
   "outputs": [
    {
     "name": "stdout",
     "output_type": "stream",
     "text": [
      "Digite os valores que deseja verificar a paridade (digite 0 para finalizar a entrada de dados):\n"
     ]
    },
    {
     "name": "stdin",
     "output_type": "stream",
     "text": [
      " 68\n"
     ]
    },
    {
     "name": "stdout",
     "output_type": "stream",
     "text": [
      "par\n"
     ]
    },
    {
     "name": "stdin",
     "output_type": "stream",
     "text": [
      " 88\n"
     ]
    },
    {
     "name": "stdout",
     "output_type": "stream",
     "text": [
      "par\n"
     ]
    }
   ],
   "source": [
    "\n",
    "par_ou_impar = lambda x: \"par\" if x % 2 == 0 else \"ímpar\"\n",
    "\n",
    "def main():\n",
    "    print(\"Digite os valores que deseja verificar a paridade (digite 0 para finalizar a entrada de dados):\")\n",
    "    while True:\n",
    "        valor = int(input())\n",
    "        if valor == 0:\n",
    "            break\n",
    "        print(par_ou_impar(valor))\n",
    "\n",
    "if __name__ == \"__main__\":\n",
    "    main()"
   ]
  },
  {
   "cell_type": "markdown",
   "id": "5a87474d",
   "metadata": {},
   "source": [
    "### Q7.\n",
    "\n",
    "Escreva um programa que pergunte ao usuário qual operação ele deseja: maior ou menor.\n",
    "Em seguida leia uma quantidade indefinida de valores do usuário, até que o usuário digite o valor zero.\n",
    "Apresente ao final o maior ou menor dos valores digitados de acordo com a escolha do usuário.\n",
    "\n",
    "**Sua solução deve incluir pelo menos uma função ```lambda```** \n",
    "\n",
    "Exemplo de interação:\n",
    "```\n",
    "Opções: (1) maior ou (2) menor?\n",
    "Opção: 1\n",
    "\n",
    "Digite os valores de entrada. Digite 0 para finalizar a entrada de valores.\n",
    "4\n",
    "12\n",
    "15\n",
    "1\n",
    "0\n",
    "\n",
    "O maior valor é: 15\n",
    "```"
   ]
  },
  {
   "cell_type": "code",
   "execution_count": null,
   "id": "ee3f68ca",
   "metadata": {},
   "outputs": [
    {
     "name": "stdin",
     "output_type": "stream",
     "text": [
      "Opções: (1) maior ou (2) menor?\n",
      "Opção:  2\n"
     ]
    },
    {
     "name": "stdout",
     "output_type": "stream",
     "text": [
      "Digite os valores de entrada. Digite 0 para finalizar a entrada de valores.\n"
     ]
    },
    {
     "name": "stdin",
     "output_type": "stream",
     "text": [
      " 89\n",
      " 54\n",
      " 48\n"
     ]
    }
   ],
   "source": [
    "def main():\n",
    "    \n",
    "    opcao = int(input(\"Opções: (1) maior ou (2) menor?\\nOpção: \"))\n",
    "    \n",
    "    # Define a função lambda para encontrar o maior ou menor valor\n",
    "    operacao = None\n",
    "    if opcao == 1:\n",
    "        operacao = lambda x, y: x if x > y else y  # Função lambda para encontrar o maior valor\n",
    "        operacao_nome = \"maior\"\n",
    "    elif opcao == 2:\n",
    "        operacao = lambda x, y: x if x < y else y  # Função lambda para encontrar o menor valor\n",
    "        operacao_nome = \"menor\"\n",
    "    else:\n",
    "        print(\"Opção inválida.\")\n",
    "        return\n",
    "    \n",
    "  \n",
    "    print(\"Digite os valores de entrada. Digite 0 para finalizar a entrada de valores.\")\n",
    "    valores = []\n",
    "    while True:\n",
    "        valor = int(input())\n",
    "        if valor == 0:\n",
    "            break\n",
    "        valores.append(valor)\n",
    "    \n",
    "   \n",
    "    if len(valores) == 0:\n",
    "        print(\"Nenhum valor foi inserido.\")\n",
    "        return\n",
    "\n",
    "  \n",
    "    resultado = valores[0]\n",
    "    \n",
    "   \n",
    "    for valor in valores[1:]:\n",
    "        resultado = operacao(resultado, valor)\n",
    "    \n",
    "\n",
    "    print(f\"O {operacao_nome} valor é: {resultado}\")\n",
    "\n",
    "if __name__ == \"__main__\":\n",
    "    main()"
   ]
  },
  {
   "cell_type": "code",
   "execution_count": null,
   "id": "178ed9e4-c40e-4273-9bb7-8189296e24ed",
   "metadata": {},
   "outputs": [],
   "source": []
  }
 ],
 "metadata": {
  "kernelspec": {
   "display_name": "Python 3 (ipykernel)",
   "language": "python",
   "name": "python3"
  },
  "language_info": {
   "codemirror_mode": {
    "name": "ipython",
    "version": 3
   },
   "file_extension": ".py",
   "mimetype": "text/x-python",
   "name": "python",
   "nbconvert_exporter": "python",
   "pygments_lexer": "ipython3",
   "version": "3.11.7"
  }
 },
 "nbformat": 4,
 "nbformat_minor": 5
}
