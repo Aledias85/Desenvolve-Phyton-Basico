{
 "cells": [
  {
   "cell_type": "markdown",
   "id": "0d5035b5",
   "metadata": {},
   "source": [
    "# Tupla\n",
    "\n",
    "## Aula 8.2"
   ]
  },
  {
   "cell_type": "markdown",
   "id": "0bdece85",
   "metadata": {},
   "source": [
    "### Q1. \n",
    "\n",
    "Escreva uma função ```calcula_area_perimetro``` que recebe **apenas um parâmetro** ```dimensoes``` e calcula a área e o perímetro a partir das dimensões dadas. \n",
    "- ```dimensoes``` é uma tupla (largura, comprimento) com as dimensões de um terreno retangular\n",
    "- Sua função deve calcular e retornar as seguintes operações\n",
    "   - $area = largura \\times comprimento$\n",
    "   - $perimetro = 2\\times(largura + comprimento)$\n"
   ]
  },
  {
   "cell_type": "code",
   "execution_count": 9,
   "id": "0a258eba",
   "metadata": {},
   "outputs": [
    {
     "name": "stdout",
     "output_type": "stream",
     "text": [
      "(35, 24) <class 'tuple'>\n"
     ]
    }
   ],
   "source": [
    "def calcula_area_perimetro(dimensoes):\n",
    "    largura, comprimento = dimensoes\n",
    "    area = largura * comprimento\n",
    "    perimetro = 2 * (largura + comprimento)\n",
    "    return (area, perimetro)\n",
    "\n",
    "# Exemplo de uso\n",
    "largura = 5\n",
    "comprimento = 7\n",
    "\n",
    "retorno = calcula_area_perimetro((largura, comprimento))\n",
    "print(retorno,type(retorno))"
   ]
  },
  {
   "cell_type": "markdown",
   "id": "cbdcb986",
   "metadata": {},
   "source": [
    "### Q2.\n",
    "\n",
    "Dada uma string, imprima todas as vogais que aparecem na string, bem como todos os índices onde elas ocorrem. Para isso, use a função ```enumerate```.\n"
   ]
  },
  {
   "cell_type": "code",
   "execution_count": 13,
   "id": "1f6b1f2d",
   "metadata": {},
   "outputs": [
    {
     "name": "stdout",
     "output_type": "stream",
     "text": [
      "Vogal: O, Índice: 0\n",
      "Vogal: a, Índice: 3\n",
      "Vogal: o, Índice: 5\n",
      "Vogal: o, Índice: 8\n",
      "Vogal: e, Índice: 9\n",
      "Vogal: u, Índice: 10\n",
      "Vogal: a, Índice: 12\n",
      "Vogal: o, Índice: 15\n",
      "Vogal: u, Índice: 16\n",
      "Vogal: a, Índice: 18\n",
      "Vogal: a, Índice: 21\n",
      "Vogal: A, Índice: 23\n",
      "Vogal: i, Índice: 25\n",
      "Vogal: e, Índice: 27\n"
     ]
    }
   ],
   "source": [
    "frase = \"O rato roeu a roupa da Alice\"\n",
    "vogais = \"aeiouAEIOU\"\n",
    "\n",
    "# Percorre a frase com a função enumerate para obter índices e caracteres\n",
    "for index, char in enumerate(frase):\n",
    "    if char in vogais:\n",
    "        print(f\"Vogal: {char}, Índice: {index}\")"
   ]
  },
  {
   "cell_type": "markdown",
   "id": "8d46663f",
   "metadata": {},
   "source": [
    "### Q3.\n",
    "\n",
    "Escreva uma função em Python chamada ```ordenar_tuplas``` que recebe uma lista de tuplas, cada uma contendo o nome de um aluno e sua respectiva média, e retorna uma nova lista ordenada em ordem decrescente de médias."
   ]
  },
  {
   "cell_type": "code",
   "execution_count": 16,
   "id": "469f2e6e",
   "metadata": {},
   "outputs": [
    {
     "name": "stdout",
     "output_type": "stream",
     "text": [
      "[('Charlie', 9.0), ('David', 8.8), ('Alice', 8.5), ('Bob', 7.2)]\n"
     ]
    }
   ],
   "source": [
    "def ordenar_tuplas(lista_de_tuplas):\n",
    "    return sorted(lista_de_tuplas, key=lambda aluno: aluno[1], reverse=True)\n",
    "\n",
    "# Exemplo de uso\n",
    "alunos_notas = [('Alice', 8.5), ('Bob', 7.2), ('Charlie', 9.0), ('David', 8.8)]\n",
    "resultado = ordenar_tuplas(alunos_notas)\n",
    "print(resultado)\n"
   ]
  },
  {
   "cell_type": "markdown",
   "id": "e0268fae",
   "metadata": {},
   "source": [
    "### Q4.\n",
    "\n",
    "Escreva uma função em Python chamada ```comprimir_tuplas``` que recebe uma lista de tuplas, cada uma contendo uma palavra e um número, e retorna uma nova lista de tuplas onde palavras idênticas são agrupadas e seus números são somados.\n",
    "\n"
   ]
  },
  {
   "cell_type": "code",
   "execution_count": 17,
   "id": "80972bac",
   "metadata": {},
   "outputs": [
    {
     "name": "stdout",
     "output_type": "stream",
     "text": [
      "[('maçã', 8), ('banana', 5), ('laranja', 1)]\n"
     ]
    }
   ],
   "source": [
    "def comprimir_tuplas(lista_de_tuplas):\n",
    "    agregado = {}\n",
    "    for palavra, numero in lista_de_tuplas:\n",
    "        agregado[palavra] = agregado.get(palavra, 0) + numero\n",
    "    return list(agregado.items())\n",
    "\n",
    "# Exemplo de uso\n",
    "tuplas_originais = [('maçã', 3), ('banana', 2), ('maçã', 5), ('laranja', 1), ('banana', 3)]\n",
    "resultado = comprimir_tuplas(tuplas_originais)\n",
    "print(resultado)\n"
   ]
  },
  {
   "cell_type": "markdown",
   "id": "649a5082",
   "metadata": {},
   "source": [
    "### Q5. \n",
    "\n",
    "- Escreva um script que peça o nome e a idade de todos na fila de uma balada. Crie uma lista de tuplas com os pares ```(nome, idade)``` de cada um. \n",
    "- Em seguida crie e imprima duas tuplas apenas com os nomes, uma com os menores de idade que não poderão entrar, e uma com os maiores de idade (```idade >= 18```). \n",
    "\n"
   ]
  },
  {
   "cell_type": "code",
   "execution_count": 19,
   "id": "47cb0573",
   "metadata": {},
   "outputs": [
    {
     "name": "stdin",
     "output_type": "stream",
     "text": [
      "Digite o nome da pessoa na fila (ou 'sair' para encerrar):  Aline\n",
      "Digite a idade de Aline na fila:  35\n",
      "Digite o nome da pessoa na fila (ou 'sair' para encerrar):  sair\n"
     ]
    },
    {
     "name": "stdout",
     "output_type": "stream",
     "text": [
      "Nomes dos menores de idade (não podem entrar):\n",
      "[]\n",
      "\n",
      "Nomes dos maiores de idade (podem entrar):\n",
      "['Aline']\n"
     ]
    }
   ],
   "source": [
    "fila_balada = []\n",
    "menores_de_idade = []\n",
    "maiores_de_idade = []\n",
    "\n",
    "while True:\n",
    "    nome = input(\"Digite o nome da pessoa na fila (ou 'sair' para encerrar): \")\n",
    "    if nome.lower() == 'sair':\n",
    "        break\n",
    "    idade = int(input(\"Digite a idade de {} na fila: \".format(nome)))\n",
    "    fila_balada.append((nome, idade))\n",
    "\n",
    "# Separar os menores e maiores de idade\n",
    "for nome, idade in fila_balada:\n",
    "    if idade < 18:\n",
    "        menores_de_idade.append(nome)\n",
    "    else:\n",
    "        maiores_de_idade.append(nome)\n",
    "\n",
    "# Imprimir os nomes\n",
    "print(\"Nomes dos menores de idade (não podem entrar):\")\n",
    "print(menores_de_idade)\n",
    "\n",
    "print(\"\\nNomes dos maiores de idade (podem entrar):\")\n",
    "print(maiores_de_idade)\n"
   ]
  },
  {
   "cell_type": "code",
   "execution_count": null,
   "id": "0068a1c1-3e50-42a6-b02e-eed54f43eef5",
   "metadata": {},
   "outputs": [],
   "source": []
  }
 ],
 "metadata": {
  "kernelspec": {
   "display_name": "Python 3 (ipykernel)",
   "language": "python",
   "name": "python3"
  },
  "language_info": {
   "codemirror_mode": {
    "name": "ipython",
    "version": 3
   },
   "file_extension": ".py",
   "mimetype": "text/x-python",
   "name": "python",
   "nbconvert_exporter": "python",
   "pygments_lexer": "ipython3",
   "version": "3.11.7"
  }
 },
 "nbformat": 4,
 "nbformat_minor": 5
}
