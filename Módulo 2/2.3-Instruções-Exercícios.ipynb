{
 "cells": [
  {
   "cell_type": "markdown",
   "metadata": {
    "id": "1pCTdOHonv5f"
   },
   "source": [
    "# Módulo 2\n",
    "\n",
    "## 2.3 Instruções e Expressões\n",
    "\n",
    "### Q1\n",
    "\n",
    "Faça um programa que armazene o valor de 20 reais de salário por hora de um trabalhador, e o número de 40 horas trabalhadas na semana. Com essas informações, calcule e imprima:\n",
    "- Salário semanal bruto\n",
    "- Valor descontado por semana INSS (10% do bruto)\n",
    "- Valor descontado por semana pelo sindicato (5% do bruto)\n",
    "- Salário semanal líquido (Bruto - Descontos)"
   ]
  },
  {
   "cell_type": "code",
   "execution_count": null,
   "metadata": {
    "id": "hVbX0I97nj6M"
   },
   "outputs": [],
   "source": [
    "## Variáveis\n",
    "salario_hora = 20\n",
    "horas_trabalhadas_por_semana = 40\n",
    "percentual_inss = 0.1\n",
    "percentual_sindicato = 0.05\n",
    "\n",
    "# Calculo do salário bruto semanal\n",
    "salario_bruto_semanal = salario_hora * horas_trabalhadas_por_semana\n",
    "\n",
    "# Calculo dos descontos\n",
    "desconto_inss = salario_bruto_semanal * percentual_inss\n",
    "desconto_sindicato = salario_bruto_semanal * percentual_sindicato\n",
    "\n",
    "# Calculo o salário líquido\n",
    "salario_liquido_semanal = salario_bruto_semanal - desconto_inss - desconto_sindicato\n",
    "\n",
    "# Imprimindo os resultados\n",
    "print(\"Salário semanal bruto:\", salario_bruto_semanal)\n",
    "print(\"Valor descontado por semana INSS:\", desconto_inss)\n",
    "print(\"Valor descontado por semana pelo sindicato:\", desconto_sindicato)\n",
    "print(\"Salário semanal líquido:\", salario_liquido_semanal)"
   ]
  },
  {
   "cell_type": "markdown",
   "metadata": {
    "id": "pIxKX9J2oGZ1"
   },
   "source": [
    "### Q2\n",
    "\n",
    "Altere o programa anterior para a partir dos valores de horas trabalhadas por semana e salário por hora, calcular **em somente duas instruções**:\n",
    "- Salário semanal bruto\n",
    "- Salário semanal líquido com todos os descontos. Para a segunda instrução, realize todos os cálculos aritméticos em uma expressão composta.\n"
   ]
  },
  {
   "cell_type": "code",
   "execution_count": 1,
   "metadata": {
    "id": "pAHw9Xf9oGoi"
   },
   "outputs": [
    {
     "name": "stdout",
     "output_type": "stream",
     "text": [
      "Salário semanal bruto: 800\n",
      "Salário semanal líquido com todos os descontos: 680.0\n"
     ]
    }
   ],
   "source": [
    "## Variáveis\n",
    "salario_hora = 20\n",
    "horas_trabalhadas_por_semana = 40\n",
    "percentual_descontos = 0.15  # 10% de INSS + 5% de sindicato\n",
    "\n",
    "# Calculo do salário bruto semanal e o salário líquido com descontos\n",
    "salario_bruto_semanal, salario_liquido_semanal = (salario_hora * horas_trabalhadas_por_semana, salario_hora * horas_trabalhadas_por_semana * (1 - percentual_descontos))\n",
    "\n",
    "# Imprimindo os resultados\n",
    "print(\"Salário semanal bruto:\", salario_bruto_semanal)\n",
    "print(\"Salário semanal líquido com todos os descontos:\", salario_liquido_semanal)"
   ]
  },
  {
   "cell_type": "markdown",
   "metadata": {
    "id": "m8tlHRuWpBOB"
   },
   "source": [
    "### Q3\n",
    "\n",
    "Você está desenvolvendo um software de conversão de moeda e precisa calcular o valor equivalente em yuan chinês a partir de uma quantia em real. A taxa de câmbio é de 0.69 BRL (real) para 1 CNY (yuan). Escreva um programa que define em uma variável uma quantia em reais (BRL) e calcula o valor equivalente em yuan (CNY). Imprima o resultado."
   ]
  },
  {
   "cell_type": "code",
   "execution_count": null,
   "metadata": {
    "id": "2bPw7uF6oeL9"
   },
   "outputs": [],
   "source": [
    "\n",
    "quantia_em_reais = float(input(\"Digite a quantia em reais (BRL): \"))\n",
    "\n",
    "# Taxa de câmbio\n",
    "taxa_de_cambio = 0.69  # 1 BRL para 0.69 CNY\n",
    "\n",
    "# Calculando o valor em yuan\n",
    "valor_em_yuan = quantia_em_reais * taxa_de_cambio\n",
    "\n",
    "# Imprimindo o resultado\n",
    "print(\"Valor equivalente em yuan (CNY):\", valor_em_yuan)\n",
    "#Para saber o valor basta digitar a quantia em reais que se deseja saber e será calculado o valor em yuan"
   ]
  },
  {
   "cell_type": "markdown",
   "metadata": {
    "id": "-Na3ltDCp74A"
   },
   "source": [
    "### Q4\n",
    "\n",
    "Você é um treinador de corrida e deseja calcular a velocidade média que um atleta precisa manter para completar a Maratona Internacional de São Silvestre, que tem uma distância total de 42.195 km. A fórmula para calcular a velocidade média ($v\\_media$) é dada por $v\\_media = \\frac{distancia}{tempo}$ . Escreva um programa em Python para calcular a velocidade média necessária para completar a maratona em 3 horas.\n",
    "\n",
    "**Calcule e imprima o resultado em metros/segundo**, ou seja, converta a distância de quilômetros para metros ($metro = \\frac{km}{1000}$) e a velocidade de horas para segundos $(segundo = \\frac{hora}{3600})$."
   ]
  },
  {
   "cell_type": "code",
   "execution_count": null,
   "metadata": {
    "id": "Bn6l8kcSrE4L"
   },
   "outputs": [],
   "source": [
    "# Distância da maratona em quilômetros\n",
    "distancia_km = 42.195\n",
    "\n",
    "# Converção a distância para metros\n",
    "distancia_m = distancia_km * 1000\n",
    "\n",
    "# Definindo o tempo em horas\n",
    "tempo_horas = 3\n",
    "\n",
    "# Converção do tempo para segundos\n",
    "tempo_segundos = tempo_horas * 3600\n",
    "\n",
    "# Calculo da velocidade média em metros por segundo\n",
    "velocidade_media = distancia_m / tempo_segundos\n",
    "\n",
    "# Imprimindo o resultado\n",
    "print(\"A velocidade média necessária é de\", velocidade_media, \"metros por segundo.\")"
   ]
  }
 ],
 "metadata": {
  "colab": {
   "provenance": []
  },
  "kernelspec": {
   "display_name": "Python 3 (ipykernel)",
   "language": "python",
   "name": "python3"
  },
  "language_info": {
   "codemirror_mode": {
    "name": "ipython",
    "version": 3
   },
   "file_extension": ".py",
   "mimetype": "text/x-python",
   "name": "python",
   "nbconvert_exporter": "python",
   "pygments_lexer": "ipython3",
   "version": "3.11.7"
  }
 },
 "nbformat": 4,
 "nbformat_minor": 4
}
