{
 "cells": [
  {
   "cell_type": "markdown",
   "id": "29e89030",
   "metadata": {},
   "source": [
    "# Módulo 4 - Repetições\n",
    "\n",
    "## Aulas 4.2 - Comando ```for``` e 4.3 Break e Continue"
   ]
  },
  {
   "cell_type": "markdown",
   "id": "a45b42df",
   "metadata": {},
   "source": [
    "### Q1.\n",
    "\n",
    "Crie um programa em Python que utilize o comando for para imprimir os números de 10 a 1, em ordem decrescente."
   ]
  },
  {
   "cell_type": "code",
   "execution_count": 1,
   "id": "55a75b3d",
   "metadata": {},
   "outputs": [
    {
     "name": "stdout",
     "output_type": "stream",
     "text": [
      "10\n",
      "9\n",
      "8\n",
      "7\n",
      "6\n",
      "5\n",
      "4\n",
      "3\n",
      "2\n",
      "1\n"
     ]
    }
   ],
   "source": [
    "# Para realizar o programa basta utilizar o comando for para imprimir os números de 10 a 1 em ordem decrescente\n",
    "for i in range(10, 0, -1):\n",
    "    print(i)\n"
   ]
  },
  {
   "cell_type": "markdown",
   "id": "94b47c36",
   "metadata": {},
   "source": [
    "### Q2.\n",
    "\n",
    "Dado um número inteiro positivo informado pelo usuário, crie um programa em Python que utilize o comando for para calcular e exibir a soma dos números de 1 até o número informado. Ou seja, $1 + 2 + 3 + ... + n$\n",
    "\n",
    "Exemplo de interação:\n",
    "```\n",
    "Digite um número: 5\n",
    "A soma dos números de 1 a 5 é 15\n",
    "```\n"
   ]
  },
  {
   "cell_type": "code",
   "execution_count": 3,
   "id": "45b71596",
   "metadata": {},
   "outputs": [
    {
     "name": "stdin",
     "output_type": "stream",
     "text": [
      "Digite um número:  5\n"
     ]
    },
    {
     "name": "stdout",
     "output_type": "stream",
     "text": [
      "A soma dos números de 1 a 5 é 15\n"
     ]
    }
   ],
   "source": [
    "# Entrada\n",
    "n = int(input(\"Digite um número: \"))\n",
    "\n",
    "# Inicializa a variável soma\n",
    "soma = 0\n",
    "\n",
    "# Utiliza o comando for para calcular a soma dos números de 1 até n\n",
    "for i in range(1, n + 1):\n",
    "    soma += i\n",
    "\n",
    "# Exibe o resultado\n",
    "print(f\"A soma dos números de 1 a {n} é {soma}\")\n"
   ]
  },
  {
   "cell_type": "markdown",
   "id": "0411d170",
   "metadata": {},
   "source": [
    "### Q3.\n",
    "\n",
    "Escreva um programa que lê 10 valores inteiros positivos do usuário e ao final imprime a média dos valores digitados com duas casas decimais.\n",
    "\n",
    "```\n",
    "Digite 10 números positivos:\n",
    "3\n",
    "2\n",
    "12\n",
    "14\n",
    "20\n",
    "42\n",
    "19\n",
    "0\n",
    "8\n",
    "1\n",
    "A média dos valores digitados é 12.10\n",
    "```"
   ]
  },
  {
   "cell_type": "code",
   "execution_count": 5,
   "id": "3f72f358",
   "metadata": {},
   "outputs": [
    {
     "name": "stdout",
     "output_type": "stream",
     "text": [
      "Digite 10 números positivos:\n"
     ]
    },
    {
     "name": "stdin",
     "output_type": "stream",
     "text": [
      "Digite o número 1:  2\n",
      "Digite o número 2:  3\n",
      "Digite o número 3:  8\n",
      "Digite o número 4:  9\n",
      "Digite o número 5:  7\n",
      "Digite o número 6:  45\n",
      "Digite o número 7:  78\n",
      "Digite o número 8:  74\n",
      "Digite o número 9:  74\n",
      "Digite o número 10:  5\n"
     ]
    },
    {
     "name": "stdout",
     "output_type": "stream",
     "text": [
      "A média dos valores digitados é 30.50\n"
     ]
    }
   ],
   "source": [
    "## Inicializar a lista para armazenar os valores\n",
    "valores = []\n",
    "\n",
    "# Solicita ao usuário que digite 10 números positivos\n",
    "print(\"Digite 10 números positivos:\")\n",
    "\n",
    "# Laço para ler 10 números\n",
    "for i in range(10):\n",
    "    while True:\n",
    "        try:\n",
    "            num = int(input(f\"Digite o número {i + 1}: \"))\n",
    "            if num >= 0:\n",
    "                valores.append(num)\n",
    "                break\n",
    "            else:\n",
    "                print(\"Por favor, digite um número inteiro positivo.\")\n",
    "        except ValueError:\n",
    "            print(\"Entrada inválida. Por favor, digite um número inteiro.\")\n",
    "\n",
    "# Calcula a média dos valores digitados\n",
    "media = sum(valores) / len(valores)\n",
    "\n",
    "# Imprime a média com duas casas decimais\n",
    "print(f\"A média dos valores digitados é {media:.2f}\")\n"
   ]
  },
  {
   "cell_type": "markdown",
   "id": "d62e27ff",
   "metadata": {},
   "source": [
    "### Q4.\n",
    "\n",
    "Você vai criar um sistema que registra os resultados dos jogos do Atlético MG ao longo de um campeonato. Seu sistema vai receber os resultados de todos os jogos do Galo, e deve calcular a pontuação do time sabendo que vitórias valem 3 pontos, empates 1 ponto e derrotas 0 pontos.\n",
    "\n",
    "Entrada: <br>\n",
    "A primeira linha de entrada é um inteiro N com a quantidade jogos do galo. Para cada jogo você deve ler 2 inteiros, o primeiro com a quantidade de gols do galo e o segundo com a quantidade de gols do time oponente. \n",
    "\n",
    "Saída: <br>\n",
    "Apresente a soma de vitórias, empates e derrotas do galo, junto com o cálculo da pontuação total.\n",
    "\n",
    "Ex:\n",
    "```\n",
    "Entrada:\n",
    "4\n",
    "2\n",
    "0\n",
    "1\n",
    "1\n",
    "0\n",
    "3\n",
    "1\n",
    "0\n",
    "\n",
    "Saída:\n",
    "Vitórias: 2\n",
    "Empates: 1\n",
    "Derrotas: 1\n",
    "Pontuação: 7\n",
    "\n",
    "```\n",
    "\n",
    "\n"
   ]
  },
  {
   "cell_type": "code",
   "execution_count": null,
   "id": "d3fdfc2a",
   "metadata": {},
   "outputs": [],
   "source": [
    "# Leitura do número de jogos\n",
    "n = int(input(\"Digite o número de jogos: \"))\n",
    "\n",
    "# Inicialização das variáveis de contagem\n",
    "soma_vitorias, soma_empates, soma_derrotas = 0, 0, 0\n",
    "\n",
    "# Laço para processar cada jogo\n",
    "for jogo in range(n):\n",
    "    gols_galo = int(input(f\"Digite os gols do Galo no jogo {jogo + 1}: \"))\n",
    "    gols_oponente = int(input(f\"Digite os gols do oponente no jogo {jogo + 1}: \"))\n",
    "\n",
    "    # Verificação do resultado do jogo\n",
    "    if gols_galo > gols_oponente:\n",
    "        soma_vitorias += 1\n",
    "    elif gols_galo < gols_oponente:\n",
    "        soma_derrotas += 1\n",
    "    else:\n",
    "        soma_empates += 1\n",
    "\n",
    "# Cálculo da pontuação total\n",
    "pontuacao_total = 3 * soma_vitorias + soma_empates\n",
    "\n",
    "# Impressão dos resultados\n",
    "print(\"Total de vitórias:\", soma_vitorias)\n",
    "print(\"Total de empates:\", soma_empates)\n",
    "print(\"Total de derrotas:\", soma_derrotas)\n",
    "print(\"Pontuação total:\", pontuacao_total)\n"
   ]
  },
  {
   "cell_type": "markdown",
   "id": "fc98604d",
   "metadata": {},
   "source": [
    "### Q5.\n",
    "\n",
    "Faça um programa que lê dois inteiros N e M, e imprime na tela um campo de batalha naval. O tabuleiro deve possuir N linhas e M colunas. A primeira linha é composta por um espaço em branco e o cabeçalho das colunas, ou seja, valores de 1 a M. As N linhas seguintes iniciam com o cabeçalho da linha, ou seja, seu número, seguido de M caracteres \"/\" (barra) indicando uma possível posição jogável. \n",
    "\n",
    "```\n",
    "Entrada:\n",
    "5\n",
    "4\n",
    "\n",
    "Saída:\n",
    "  1 2 3 4 \n",
    "1 / / / / \n",
    "2 / / / / \n",
    "3 / / / / \n",
    "4 / / / / \n",
    "5 / / / / \n",
    "```\n",
    "\n",
    "Para esse exercício, precisamos lembrar que o comando print implicitamente adiciona uma quebra de linha ao final da impressão. Podemos interferir no final da impressão adicionando mais uma entrada ao print. No exemplo, finalizamos cada linha com um espaço em branco:\n",
    "```python\n",
    "print(\"Texto qualquer\", end = \" \")\n",
    "```"
   ]
  },
  {
   "cell_type": "code",
   "execution_count": 6,
   "id": "a60ef197",
   "metadata": {},
   "outputs": [
    {
     "name": "stdin",
     "output_type": "stream",
     "text": [
      "Digite o número de linhas (N):  3\n",
      "Digite o número de colunas (M):  4\n"
     ]
    },
    {
     "name": "stdout",
     "output_type": "stream",
     "text": [
      "  1 2 3 4 \n",
      "1 / / / / \n",
      "2 / / / / \n",
      "3 / / / / \n"
     ]
    }
   ],
   "source": [
    "# Solicita ao usuário os valores de N e M\n",
    "N = int(input(\"Digite o número de linhas (N): \"))\n",
    "M = int(input(\"Digite o número de colunas (M): \"))\n",
    "\n",
    "# Imprime o cabeçalho das colunas\n",
    "print(\" \", end=\" \")\n",
    "for col in range(1, M + 1):\n",
    "    print(col, end=\" \")\n",
    "print()  # Nova linha após o cabeçalho das colunas\n",
    "\n",
    "# Imprime o tabuleiro de batalha naval\n",
    "for row in range(1, N + 1):\n",
    "    print(row, end=\" \")  # Cabeçalho da linha\n",
    "    for col in range(M):\n",
    "        print(\"/\", end=\" \")  # Posições jogáveis\n",
    "    print()  # Nova linha após cada linha do tabuleiro\n"
   ]
  },
  {
   "cell_type": "markdown",
   "id": "4654dc0b",
   "metadata": {},
   "source": [
    "---\n",
    "## Break e Continue"
   ]
  },
  {
   "cell_type": "markdown",
   "id": "24fe9d85",
   "metadata": {},
   "source": [
    "### Q6.\n",
    "\n",
    "Escreva um programa que lê uma quantidade indefinida de valores e informa o maior e o menor valor digitados. A leitura é encerrada quando o usuário digitar o valor 0 (zero).\n",
    "\n",
    "```\n",
    "Entrada:\n",
    "12\n",
    "-1\n",
    "29\n",
    "11\n",
    "-5\n",
    "0\n",
    "\n",
    "Saída:\n",
    "Maior: 29\n",
    "Menor: -5\n",
    "```"
   ]
  },
  {
   "cell_type": "code",
   "execution_count": null,
   "id": "ee1c466a",
   "metadata": {},
   "outputs": [],
   "source": [
    "# Estado inicial de variáveis\n",
    "maior = float('-inf')\n",
    "menor = float('inf')\n",
    "\n",
    "while True:\n",
    "    n = int(input(\"Digite um número (0 para parar): \"))\n",
    "    if n == 0:\n",
    "        break\n",
    "\n",
    "    if n > maior:\n",
    "        maior = n \n",
    "    if n < menor:\n",
    "        menor = n\n",
    "\n",
    "# Saída de dados\n",
    "print(f\"O maior valor é {maior}\")\n",
    "print(f\"O menor valor é {menor}\")\n"
   ]
  },
  {
   "cell_type": "markdown",
   "id": "30d486f7",
   "metadata": {},
   "source": [
    "### Q7.\n",
    "\n",
    "Escreva um programa que lê uma quantidade indefinida de valores e informa o **produto** dos valores positivos digitados. A leitura é encerrada quando o usuário digitar o valor 0 (zero).\n",
    "\n",
    "```\n",
    "Entrada:\n",
    "2\n",
    "-1\n",
    "1\n",
    "3\n",
    "-5\n",
    "0\n",
    "\n",
    "Saída:\n",
    "Produto: 6\n",
    "```"
   ]
  },
  {
   "cell_type": "code",
   "execution_count": null,
   "id": "2f1ac324",
   "metadata": {},
   "outputs": [],
   "source": [
    "# Estado inicial de variáveis\n",
    "produto = 1\n",
    "\n",
    "while True:\n",
    "    n = int(input())\n",
    "    if n == 0: break\n",
    "    if n < 0: continue\n",
    "    produto = produto * n\n",
    "    \n",
    "\n",
    "\n",
    "# Saída de dados\n",
    "print(f\"O produto dos positivos {produto}\")\n"
   ]
  },
  {
   "cell_type": "markdown",
   "id": "e932f3cf",
   "metadata": {},
   "source": [
    "### Q8.\n",
    "\n",
    "Vamos fazer uma calculadora que aceita expressões aritméticas de qualquer tamanho até que o usuário digite a palavra \"Fim\". Sua calculadora executa apenas as operações \"+\", \"-\".\n",
    "\n",
    "```\n",
    "Entrada:\n",
    "5\n",
    "+\n",
    "8\n",
    "-\n",
    "3\n",
    "+\n",
    "2\n",
    "Fim\n",
    "\n",
    "Saída:\n",
    "12\n",
    "```"
   ]
  },
  {
   "cell_type": "code",
   "execution_count": 9,
   "id": "e835d870",
   "metadata": {},
   "outputs": [
    {
     "name": "stdout",
     "output_type": "stream",
     "text": [
      "Digite a expressão aritmética linha por linha. Digite 'Fim' para finalizar.\n"
     ]
    },
    {
     "name": "stdin",
     "output_type": "stream",
     "text": [
      " 2\n",
      " +\n",
      " 6\n",
      " -\n",
      " 5\n",
      " +\n",
      " 9\n",
      " Fim\n"
     ]
    },
    {
     "name": "stdout",
     "output_type": "stream",
     "text": [
      "O resultado é: 12\n"
     ]
    }
   ],
   "source": [
    "# Inicialização da variável para armazenar o resultado\n",
    "resultado = 0\n",
    "# Inicialização da variável para armazenar a operação atual\n",
    "operacao = '+'\n",
    "\n",
    "print(\"Digite a expressão aritmética linha por linha. Digite 'Fim' para finalizar.\")\n",
    "\n",
    "while True:\n",
    "    entrada = input()\n",
    "\n",
    "    if entrada == \"Fim\": #é importante ressaltar que pra dar certo a letra F terá que ser maiúscula\n",
    "        break\n",
    "    elif entrada in ['+', '-']:\n",
    "        operacao = entrada\n",
    "    else:\n",
    "        numero = int(entrada)\n",
    "        if operacao == '+':\n",
    "            resultado += numero\n",
    "        elif operacao == '-':\n",
    "            resultado -= numero\n",
    "\n",
    "# Saída\n",
    "print(f\"O resultado é: {resultado}\")\n"
   ]
  },
  {
   "cell_type": "code",
   "execution_count": null,
   "id": "d8ee1592-5b4b-49c4-872d-3e442e1b2261",
   "metadata": {},
   "outputs": [],
   "source": []
  }
 ],
 "metadata": {
  "kernelspec": {
   "display_name": "Python 3 (ipykernel)",
   "language": "python",
   "name": "python3"
  },
  "language_info": {
   "codemirror_mode": {
    "name": "ipython",
    "version": 3
   },
   "file_extension": ".py",
   "mimetype": "text/x-python",
   "name": "python",
   "nbconvert_exporter": "python",
   "pygments_lexer": "ipython3",
   "version": "3.11.7"
  }
 },
 "nbformat": 4,
 "nbformat_minor": 5
}
